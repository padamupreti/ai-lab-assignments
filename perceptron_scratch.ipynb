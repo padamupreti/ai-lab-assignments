{
 "cells": [
  {
   "cell_type": "markdown",
   "metadata": {},
   "source": [
    "## Perceptron from Scratch\n",
    "\n",
    "Here is implementation of a perceptron from scratch demonstrated using AND gate example."
   ]
  },
  {
   "cell_type": "code",
   "execution_count": 1,
   "metadata": {},
   "outputs": [],
   "source": [
    "import numpy as np"
   ]
  },
  {
   "cell_type": "code",
   "execution_count": 2,
   "metadata": {},
   "outputs": [],
   "source": [
    "class Perceptron:\n",
    "    def __init__(self, lr=0.1, th=0.5):\n",
    "        \"\"\"\n",
    "        Initialize perceptron providing feature matrix (X) and targets (y).\n",
    "        X and y should be numpy arrays. Learning rate (lr) and threshold (th) values are optional.\n",
    "        \"\"\"\n",
    "        self.lr = lr\n",
    "        self.th = th\n",
    "\n",
    "    def step(self, val):\n",
    "        \"\"\"\n",
    "        Step function as activation function.\n",
    "        \"\"\"\n",
    "        return 1 if val >= self.th else 0\n",
    "\n",
    "    def predict(self, X_in):\n",
    "        \"\"\"\n",
    "        Make predictions with the perceptron. X_in should be a feature set as numpy array.\n",
    "        \"\"\"\n",
    "        weighted_sum = np.sum(X_in * self.weights)\n",
    "        y_pred = self.step(weighted_sum)\n",
    "        return y_pred\n",
    "\n",
    "    def fit(self, X, y):\n",
    "        \"\"\"\n",
    "        Fit the perceptron using the given data, learning rate and threshold before training.\n",
    "        \"\"\"\n",
    "        self.X = X\n",
    "        self.y = y\n",
    "\n",
    "        # Initialize weights randomly for each feature in feature set\n",
    "        self.weights = np.array([np.random.rand() for _ in range(self.X.shape[1])])\n",
    "\n",
    "        is_iterating = True\n",
    "        while is_iterating:\n",
    "            # Assume correct weights requiring no adjustment\n",
    "            is_iterating = False\n",
    "            for X_in, y_actual in zip(self.X, self.y):\n",
    "                y_pred = self.predict(X_in)\n",
    "                error = y_actual - y_pred\n",
    "                if error == 0:\n",
    "                    # Continue to next set of features (next X_in) for no error\n",
    "                    continue\n",
    "                # Otherwise in case of error adjust weights and signal requirement\n",
    "                # for additional iteration\n",
    "                for i in range(self.weights.size):\n",
    "                    dw = self.lr * X_in[i] * error\n",
    "                    self.weights[i] += dw\n",
    "                is_iterating = True\n",
    "\n",
    "        # After iterations complete, the final weights are obtained\n",
    "        return self.weights"
   ]
  },
  {
   "cell_type": "code",
   "execution_count": 3,
   "metadata": {},
   "outputs": [],
   "source": [
    "X = np.array([[0, 0], [0, 1], [1, 0], [1, 1]]) # feature matrix\n",
    "y = np.array([0, 0, 0, 1]) # targets"
   ]
  },
  {
   "cell_type": "code",
   "execution_count": 4,
   "metadata": {},
   "outputs": [
    {
     "name": "stdout",
     "output_type": "stream",
     "text": [
      "Final weights: 0.40459254023152247, 0.4717370575116936\n"
     ]
    }
   ],
   "source": [
    "and_gate_p = Perceptron()\n",
    "f_weights = and_gate_p.fit(X, y)\n",
    "print(f\"Final weights: {', '.join([str(w) for w in f_weights])}\")"
   ]
  },
  {
   "cell_type": "code",
   "execution_count": 5,
   "metadata": {},
   "outputs": [
    {
     "name": "stdout",
     "output_type": "stream",
     "text": [
      "Prediction for 0 & 0: 0\n",
      "Prediction for 0 & 1: 0\n",
      "Prediction for 1 & 0: 0\n",
      "Prediction for 1 & 1: 1\n"
     ]
    }
   ],
   "source": [
    "for X_in in X:\n",
    "    print(f\"Prediction for {' & '.join([str(f) for f in X_in])}: {and_gate_p.predict(X_in)}\")"
   ]
  }
 ],
 "metadata": {
  "kernelspec": {
   "display_name": "Python 3 (ipykernel)",
   "language": "python",
   "name": "python3"
  },
  "language_info": {
   "codemirror_mode": {
    "name": "ipython",
    "version": 3
   },
   "file_extension": ".py",
   "mimetype": "text/x-python",
   "name": "python",
   "nbconvert_exporter": "python",
   "pygments_lexer": "ipython3",
   "version": "3.11.10"
  }
 },
 "nbformat": 4,
 "nbformat_minor": 4
}
