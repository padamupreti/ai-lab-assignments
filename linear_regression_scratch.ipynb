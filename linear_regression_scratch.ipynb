{
 "cells": [
  {
   "cell_type": "markdown",
   "id": "b15e701a-5d74-451f-90ce-f7a889d8a50c",
   "metadata": {},
   "source": [
    "## Linear Regression from Scratch\n",
    "\n",
    "Here is implementation of linear regression from scratch operating on singular x value to predict y value producing slope (b) and intercept (a)."
   ]
  },
  {
   "cell_type": "code",
   "execution_count": 1,
   "id": "5b6c78b2-b441-44b9-b861-2e3b7b971b58",
   "metadata": {},
   "outputs": [],
   "source": [
    "import numpy as np"
   ]
  },
  {
   "cell_type": "code",
   "execution_count": 2,
   "id": "ba5829d8-d9a6-4add-9485-6e8f1077c30d",
   "metadata": {},
   "outputs": [],
   "source": [
    "class LinearRegression:\n",
    "    def __init__(self):\n",
    "        \"\"\"\n",
    "        Initialize slope and intercept to `None`.\n",
    "        \"\"\"\n",
    "        self.b = None  # slope\n",
    "        self.a = None  # intercept\n",
    "\n",
    "    def get_slope(self):\n",
    "        \"\"\"\n",
    "        Return value of slope.\n",
    "        \"\"\"\n",
    "        return self.b\n",
    "\n",
    "    def get_intercept(self):\n",
    "        \"\"\"\n",
    "        Return value of intercept.\n",
    "        \"\"\"\n",
    "        return self.a\n",
    "\n",
    "    def fit(self, x_data, y_data):\n",
    "        \"\"\"\n",
    "        Fit the given data to calculate slope and intercept.\n",
    "        `x_data` and `y_data` should both be 1-D numpy arrays.\n",
    "        \"\"\"\n",
    "        x_mean = np.mean(x_data)\n",
    "        y_mean = np.mean(y_data)\n",
    "\n",
    "        x_dev = x_data - x_mean\n",
    "        y_dev = y_data - y_mean\n",
    "\n",
    "        self.b = np.sum(x_dev * y_dev) / np.sum(x_dev * x_dev)\n",
    "        self.a = y_mean - (self.b * x_mean)\n",
    "\n",
    "    def predict(self, x):\n",
    "        \"\"\"\n",
    "        Return linear regression prediction for provided value.\n",
    "        \"\"\"\n",
    "        return (self.b * x) + self.a"
   ]
  },
  {
   "cell_type": "code",
   "execution_count": 3,
   "id": "e30c987b-d615-4fa1-a781-c27858538403",
   "metadata": {},
   "outputs": [],
   "source": [
    "x_data = np.array([6, 12, 14, 6, 9, 13, 15, 9])\n",
    "y_data = np.array([300, 400, 560, 250, 290, 650, 630, 520])"
   ]
  },
  {
   "cell_type": "code",
   "execution_count": 4,
   "id": "4647eb1a-8e1a-4982-b6d4-e83b55d26314",
   "metadata": {},
   "outputs": [
    {
     "name": "stdout",
     "output_type": "stream",
     "text": [
      "Slope (b) = 38.72, Intercept (a) = 43.43\n",
      "Predicted y for x = 15: 624.2441860465117\n"
     ]
    }
   ],
   "source": [
    "lr_model = LinearRegression()\n",
    "lr_model.fit(x_data, y_data)\n",
    "\n",
    "print(f\"Slope (b) = {lr_model.get_slope():.2f}, Intercept (a) = {lr_model.get_intercept():.2f}\")\n",
    "print(\"Predicted y for x = 15:\", lr_model.predict(15))"
   ]
  }
 ],
 "metadata": {
  "kernelspec": {
   "display_name": "Python 3 (ipykernel)",
   "language": "python",
   "name": "python3"
  },
  "language_info": {
   "codemirror_mode": {
    "name": "ipython",
    "version": 3
   },
   "file_extension": ".py",
   "mimetype": "text/x-python",
   "name": "python",
   "nbconvert_exporter": "python",
   "pygments_lexer": "ipython3",
   "version": "3.11.10"
  }
 },
 "nbformat": 4,
 "nbformat_minor": 5
}
